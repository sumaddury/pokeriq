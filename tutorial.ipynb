{
 "cells": [
  {
   "cell_type": "markdown",
   "id": "e1129d92-60a6-4695-a870-715bff4f3886",
   "metadata": {},
   "source": [
    "# PokerIQ Tutorial\n",
    "_This tutorial runs through the basic usage of PokerIQ._"
   ]
  },
  {
   "cell_type": "markdown",
   "id": "16f104e5-1f2c-4534-987b-739d8fcc47c6",
   "metadata": {},
   "source": [
    "## Installation\n",
    "First, install the library either through `pip` or source.\n",
    "\n",
    "Then, import the six required classes. We are ready to go!"
   ]
  },
  {
   "cell_type": "code",
   "execution_count": 11,
   "id": "36a3008e-8ac4-4713-8f01-e7fb4821f876",
   "metadata": {},
   "outputs": [
    {
     "name": "stdout",
     "output_type": "stream",
     "text": [
      "Collecting git+https://github.com/sumaddury/pokeriq.git\n",
      "  Cloning https://github.com/sumaddury/pokeriq.git to /private/var/folders/kl/wldt1h0141nbgk6x5ch6fs7h0000gn/T/pip-req-build-70zvszaw\n",
      "  Running command git clone --filter=blob:none --quiet https://github.com/sumaddury/pokeriq.git /private/var/folders/kl/wldt1h0141nbgk6x5ch6fs7h0000gn/T/pip-req-build-70zvszaw\n",
      "  Resolved https://github.com/sumaddury/pokeriq.git to commit de0ac931a93940d4fecf4e06ec292114ce262c1a\n",
      "  Preparing metadata (setup.py) ... \u001b[?25ldone\n",
      "\u001b[?25h"
     ]
    }
   ],
   "source": [
    "!pip install git+https://github.com/sumaddury/pokeriq.git\n",
    "\n",
    "from pokeriq import Card, Hand, Deck, Player, Simulation, EquitySolver"
   ]
  },
  {
   "cell_type": "markdown",
   "id": "9ff2cfd1-67c7-4266-adb5-e85fddb7a01a",
   "metadata": {},
   "source": [
    "## The `Card` class\n",
    "\n",
    "The `Card` class encapsulates the playing card, with individual instances containing information for individual cards.\\\n",
    "Attributes:\n",
    "- `suit`: The card's suit (eg. 's' for spade)\n",
    "- `rank`: The card's rank (eg. 7 for 7 or 12 for Q)\n",
    "    \n",
    "Essential static functions:\n",
    "- `sequenceToString(sequence)`: Converts list of `Card` objects to a string message\n",
    "- `generate(card)`: Returns a `Card` object corresponding to the input string representation. Format is RankSuit (eg. 'Ts', '9h')\n",
    "- `generateSet(sequence)`: Converts collection of card string representations, to the corresponding list of `Card` objects\n",
    "- `generateSetofSets(set)`: Converts a collection of sequences as indicated above, to the corresponding list of lists of `Card` objects"
   ]
  },
  {
   "cell_type": "code",
   "execution_count": 42,
   "id": "55d1be6d-a821-4c59-b0e0-a63f0866e7ec",
   "metadata": {},
   "outputs": [
    {
     "name": "stdout",
     "output_type": "stream",
     "text": [
      "♠Q ♠Q\n"
     ]
    }
   ],
   "source": [
    "queenOfSpadesOne = Card('s', 12)\n",
    "queenOfSpadesTwo = Card.generate('Qs')\n",
    "print(queenOfSpadesOne.toString(), queenOfSpadesTwo.toString())"
   ]
  },
  {
   "cell_type": "code",
   "execution_count": 44,
   "id": "6e507eb2-2544-4e78-bc38-94490cec685d",
   "metadata": {},
   "outputs": [
    {
     "name": "stdout",
     "output_type": "stream",
     "text": [
      " ♥8 ♠8\n",
      " ♥8 ♠8\n"
     ]
    }
   ],
   "source": [
    "pocketEightsOne = [Card('h', 8), Card('s', 8)]\n",
    "pocketEightsTwo = Card.generateSet(['8h','8s'])\n",
    "print(Card.sequenceToString(pocketEightsOne))\n",
    "print(Card.sequenceToString(pocketEightsTwo))"
   ]
  },
  {
   "cell_type": "markdown",
   "id": "0e9ccdf4-f3a3-498c-9919-58819516574c",
   "metadata": {},
   "source": [
    "We will cover `generateSetofSets()` later, when we explore ranges. These generators are intended to provide less cumbersome mechanisms to create `Card` data.\n",
    "\n",
    "`Card` also has many instance functions which you can play around with. (Apart from the constructor, however, they are mostly for internal use.)"
   ]
  },
  {
   "cell_type": "markdown",
   "id": "3b7932e5-f927-4acd-89e2-d6f8c5739483",
   "metadata": {},
   "source": [
    "## The `EquitySolver` class\n",
    "\n",
    "The `EquitySolver` class is the main product of this library. It provides functionality for calculating hand and range equity.\\\n",
    "Essential instance methods:\n",
    "- `addPlayers(amnt)`: Adds up to 10 total players to the solver (starts with 0). Default value is 1\n",
    "- `removePlayers(amnt)`: Removes any number of players from the solver, prioritizing MOST RECENT. Default value is 1\n",
    "- `defineHole(id, hole)`: Defines hole cards for a specific player, where `id` is an integer corresponding to the number of the player. `hole` must be a list of exactly two unequal `Card` objects\n",
    "- `clearHole(id)`: Resets hole cards for a specific player to empty based on `id`\n",
    "- `defineBoard(board)`: Defines the starting board used by the solver if desired. If this function is not used, calculation will start from preflop. Input `board` must be a list of `Card` objects from length 3-5\n",
    "- `calculateHandEquity(trials)`: After players, boards, and decks have been added and any hole cards defined, this function calculates hand equity for each player from the point provided (NO BOARD: preflop; 3 CARDS: flop; etc.). If hole cards are not provided for one or more player, each trial will assign a random hand from the deck to each of these players. Returns a dictionary of equities, which will also be stored internally. `trials` can be specified if desired, (1,000-10,000 trials generally provides sufficient accuracy). Default value is 1,000\n",
    "- `toString()`: Will return a string message of the solver state, with hand equities if `calculateHandEquity()` has been called\n",
    "\n",
    "*Other instance methods can be found in spec.\n",
    "Essential static methods:\n",
    "- `generateRange(range)`: Generates a collection of all possible hole card pairs based on a range. Essential for generating large ranges without specifying every suit combination. Input `range` should be a list of generic hand string representations, with pocket pairs indicated by the two cards and unpaired hands indicated by the two cards followed by 'o' for offsuit and 's' for suited (eg. '88', 'TT', 'AA', 'AKo', 'T9s', '72o', etc.). Ex. input: `['AA', 'KK', 'QQ', 'AKs', 'AKo']` will return a list of 34 `Card` pairs, corresponding to each possible suit combination of these hand generics. This function is an alternative to `Card.generateSetofSets()`\n",
    "- `calculateRangeEquity(*args, trials, customDeck, customBoard)`: Calculates the AVERAGE equity for each of any number of ranges (inputted via `*args`). Uses a Cartesian product to enumerate over every possible combination that can be made between the ranges (4 hand range vs 6 hand range vs 16 hand range means 4*6*16=384 enumerations), running each for a specified number of trials (default is 1000). A deck and/or board input can also be provided, and equity calculation will begin from there (see `calculateHandEquity` for specifics). Returns a tuple with the equity dictionary and a string message\n",
    "\n",
    "\n"
   ]
  },
  {
   "cell_type": "code",
   "execution_count": 27,
   "id": "34bf08d6-73a4-4364-b19d-4ea39b970ee1",
   "metadata": {},
   "outputs": [
    {
     "name": "stdout",
     "output_type": "stream",
     "text": [
      "____________________\n",
      "Board Cards: \n",
      " ♥6 ♥7 ♠9\n",
      "____________________\n",
      "Player 1 |  ♥5 ♥A | 45.400000000000034%\n",
      "Player 2 |  ♠T ♣T | 41.30000000000003%\n",
      "Player 3 |  | 15.10000000000001%\n",
      "Chop | 0%\n",
      "____________________\n",
      "\n"
     ]
    }
   ],
   "source": [
    "solver = EquitySolver()\n",
    "solver.addPlayers(3)\n",
    "solver.defineHole(1, Card.generateSet({'Ah','5h'}))\n",
    "solver.defineHole(2, Card.generateSet({'Tc','Ts'}))\n",
    "solver.defineBoard(Card.generateSet(['6h','7h','9s']))\n",
    "solver.calculateHandEquity(trials=1000)\n",
    "print(solver.toString())"
   ]
  },
  {
   "cell_type": "code",
   "execution_count": 46,
   "id": "08d26e0e-f2fe-4651-bc32-669a277ff415",
   "metadata": {},
   "outputs": [
    {
     "name": "stdout",
     "output_type": "stream",
     "text": [
      "[' ♠K ♦K', ' ♦A ♥K', ' ♦A ♣A', ' ♠A ♥A', ' ♦A ♣K', ' ♦K ♣K', ' ♥A ♠K', ' ♥A ♦K', ' ♠A ♦A', ' ♥K ♣K', ' ♠Q ♥Q', ' ♥Q ♣Q', ' ♣A ♠K', ' ♣A ♦K', ' ♠A ♥K', ' ♠A ♣A', ' ♠A ♣K', ' ♦A ♠K', ' ♠K ♥K', ' ♦A ♦K', ' ♠Q ♦Q', ' ♥A ♦A', ' ♠K ♣K', ' ♥K ♦K', ' ♥A ♥K', ' ♥A ♣A', ' ♥A ♣K', ' ♠A ♠K', ' ♣A ♥K', ' ♠A ♦K', ' ♦Q ♣Q', ' ♥Q ♦Q', ' ♣A ♣K', ' ♠Q ♣Q']\n",
      "[' ♠A ♥K', ' ♠A ♦K', ' ♠A ♣K', ' ♥A ♠K', ' ♥A ♦K', ' ♥A ♣K', ' ♦A ♠K', ' ♦A ♥K', ' ♦A ♣K', ' ♣A ♠K', ' ♣A ♥K', ' ♣A ♦K', ' ♠A ♠K', ' ♥A ♥K', ' ♦A ♦K', ' ♣A ♣K', ' ♠K ♥K', ' ♠K ♦K', ' ♠K ♣K', ' ♥K ♦K', ' ♥K ♣K', ' ♦K ♣K', ' ♠Q ♥Q', ' ♠Q ♦Q', ' ♠Q ♣Q', ' ♥Q ♦Q', ' ♥Q ♣Q', ' ♦Q ♣Q', ' ♠A ♥A', ' ♠A ♦A', ' ♠A ♣A', ' ♥A ♦A', ' ♥A ♣A', ' ♦A ♣A']\n"
     ]
    }
   ],
   "source": [
    "fiveBetRangeOne = Card.generateSetofSets({('As','Ah'), ('As','Ad'), ('As','Ac'), ('Ah','Ad'), ('Ah','Ac'), ('Ad','Ac'), \n",
    "                                    ('Ks','Kh'), ('Ks','Kd'), ('Ks','Kc'), ('Kh','Kd'), ('Kh','Kc'), ('Kd','Kc'), \n",
    "                                    ('Qs','Qh'), ('Qs','Qd'), ('Qs','Qc'), ('Qh','Qd'), ('Qh','Qc'), ('Qd','Qc'), \n",
    "                                    ('As','Ks'), ('Ah','Kh'), ('Ad','Kd'), ('Ac','Kc'), ('As','Kh'), ('As','Kd'), \n",
    "                                    ('As','Kc'), ('Ah','Ks'), ('Ah','Kd'), ('Ah','Kc'), ('Ad','Ks'), ('Ad','Kh'), \n",
    "                                    ('Ad','Kc'), ('Ac','Ks'), ('Ac','Kh'), ('Ac','Kd')})\n",
    "fiveBetRangeTwo = EquitySolver.generateRange({'AA', 'KK', 'QQ', 'AKs', 'AKo'})\n",
    "toStringListOne = [Card.sequenceToString(hand) for hand in fiveBetRangeOne]\n",
    "toStringListTwo = [Card.sequenceToString(hand) for hand in fiveBetRangeTwo]\n",
    "print(toStringListOne)\n",
    "print(toStringListTwo)"
   ]
  },
  {
   "cell_type": "code",
   "execution_count": 50,
   "id": "70ff3dee-fefd-4c7c-85d2-9199b9d7824d",
   "metadata": {},
   "outputs": [
    {
     "name": "stdout",
     "output_type": "stream",
     "text": [
      "____________________\n",
      "BoardCards: \n",
      "\n",
      "____________________\n",
      "Range 1 | 59.25890522875673%\n",
      "Range 2 | 21.538888888888692%\n",
      "CHOP | 19.202205882352214%\n",
      "____________________\n",
      "\n"
     ]
    }
   ],
   "source": [
    "myRange = EquitySolver.generateRange({'AA', 'KK'})\n",
    "equities, message = EquitySolver.calculateRangeEquity(myRange, fiveBetRangeTwo, trials=3000)\n",
    "print(message)"
   ]
  },
  {
   "cell_type": "code",
   "execution_count": 51,
   "id": "d99b8bff-46a5-4de3-a809-2dd14ce57674",
   "metadata": {},
   "outputs": [
    {
     "name": "stdout",
     "output_type": "stream",
     "text": [
      "____________________\n",
      "BoardCards: \n",
      " ♣A ♥9 ♥2\n",
      "____________________\n",
      "Range 1 | 84.08879310344834%\n",
      "Range 2 | 10.870689655172425%\n",
      "CHOP | 5.040517241379313%\n",
      "____________________\n",
      "\n"
     ]
    }
   ],
   "source": [
    "myHand = [Card.generateSet(('9c','9s'))]\n",
    "uncappedThreeBetRange = EquitySolver.generateRange({'AA','KK','QQ','AKs','AKo','JJ','TT','99',\n",
    "                                                    'AQs','AQo','AJs','AJo','ATs','ATo','KQs','KQo'})\n",
    "board = Card.generateSet(['Ac','9h','2h'])\n",
    "equities, message = EquitySolver.calculateRangeEquity(myHand, uncappedThreeBetRange, customBoard=board)\n",
    "print(message)"
   ]
  },
  {
   "cell_type": "markdown",
   "id": "fe347798-29fa-44a3-becb-c9cead61990f",
   "metadata": {},
   "source": [
    "## The `Hand`, `Deck`, and `Player` classes\n",
    "\n",
    "The `Hand` class encapsulates a MADE hand, providing functionality for hand assessment and comparison.\\\n",
    "_Attributes:_\n",
    "- _`hand`: The object's hand type (eg. 'STRAIGHT FLUSH', 'TWO PAIR', etc.)_\n",
    "- _`strength`: An array corresponding to how this specific object compares within hand types (eg. K high flush vs 6 high flush)_\n",
    "\n",
    "The `Deck` class encapsulates a card data structure with a variety of dealing functions.\\\n",
    "_Attributes:_\n",
    "- _`cards`: List of Card objects corresponding to the `Card` data_\n",
    "\n",
    "The `Player` class represents individual players with functionality for winner assessment, dealing, and betting.\\\n",
    "_Attributes:_\n",
    "- _`name`: Instance' string name_\n",
    "- _`stack`: Numerical chip stack_\n",
    "- _`hole`: List of Card objects containing the player's hole cards_\n",
    "- _`currentBet`: The last bet amount placed by the player_\n",
    "\n",
    "**`Hand` is strictly for internal use. Its instance and static methods do not check for preconditions and should not be used by users.\\\n",
    "`Deck` and `Player` are also mostly for internal use, but are user-approved. Read the source code specs for specific information on how to use them for custom simulations.**"
   ]
  },
  {
   "cell_type": "markdown",
   "id": "e73066dd-d1ec-49da-b911-046dc2197fea",
   "metadata": {},
   "source": [
    "## The `Simulation` class\n",
    "\n",
    "The `Simulation` class provides functionality for all types of simulations.\\\n",
    "_Attributes:_\n",
    "- _`flop`: List of length 3 of `Card` objects corresponding to the flop_\n",
    "- _`turn`: List of length 1 of `Card` objects corresponding to the turn_\n",
    "- _`river`: List of length 1 of `Card` objects corresponding to the river_\n",
    "- _`board`: Concatenation of `flop`, `turn`, and `river`_\n",
    "- _`players`: List of `Player` objects participating in the trial_\n",
    "- _`winners`: List of `Player` object(s) who won the hand_\n",
    "- _`highHand`: String representation of the made hand that won (eg. 'FULL HOUSE')_\n",
    "\n",
    "The `Simulation` class is used by `EquitySolver` for each trial, but can also be used directly for custom simulations via `runSim()`. This method assumes that any `customDeck` inputs are up-to-date (board and player cards have been removed). See the source code spec for specific information."
   ]
  },
  {
   "cell_type": "markdown",
   "id": "bf357716-9823-49e4-8d8c-1558aa918425",
   "metadata": {},
   "source": [
    "This was a high level tutorial that shows the most essential features of this micro-library. There is plenty of other customizable functionality provided, such as in the later three classes. All of the source code is clearly commented and is worth reading!"
   ]
  }
 ],
 "metadata": {
  "kernelspec": {
   "display_name": "Python 3 (ipykernel)",
   "language": "python",
   "name": "python3"
  },
  "language_info": {
   "codemirror_mode": {
    "name": "ipython",
    "version": 3
   },
   "file_extension": ".py",
   "mimetype": "text/x-python",
   "name": "python",
   "nbconvert_exporter": "python",
   "pygments_lexer": "ipython3",
   "version": "3.12.4"
  }
 },
 "nbformat": 4,
 "nbformat_minor": 5
}
