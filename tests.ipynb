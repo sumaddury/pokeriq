{
 "cells": [
  {
   "cell_type": "markdown",
   "id": "09bd9bb4-e5a2-4222-8668-e59b344654da",
   "metadata": {},
   "source": [
    "# PokerIQ Tests"
   ]
  },
  {
   "cell_type": "code",
   "execution_count": 4,
   "id": "55a2b5b3-8a0d-4dd1-9f93-9c5a536de077",
   "metadata": {},
   "outputs": [],
   "source": [
    "from pokeriq import Card, Hand, Deck, Player, Simulation, EquitySolver"
   ]
  },
  {
   "cell_type": "code",
   "execution_count": 6,
   "id": "a0a6ded5-14cc-49e7-ac42-153b590c91a7",
   "metadata": {},
   "outputs": [
    {
     "name": "stdout",
     "output_type": "stream",
     "text": [
      "True\n",
      "True\n",
      "True\n"
     ]
    }
   ],
   "source": [
    "# Testing generators\n",
    "cardOne = Card.generate('Js')\n",
    "cardTwo = Card('s',11)\n",
    "print(cardOne.equals(cardTwo))\n",
    "\n",
    "sequenceOne = [Card('s',9), Card('d',10), Card('d',11)]\n",
    "sequenceTwo = Card.generateSet(('9s','Td','Jd'))\n",
    "print(Card.sequenceToString(sequenceOne) == Card.sequenceToString(sequenceTwo))\n",
    "\n",
    "rangeOne = Card.generateSetofSets({('As','Ah'), ('As','Ad'), ('As','Ac'), ('Ah','Ad'), ('Ah','Ac'), ('Ad','Ac'), \n",
    "                                    ('Ks','Kh'), ('Ks','Kd'), ('Ks','Kc'), ('Kh','Kd'), ('Kh','Kc'), ('Kd','Kc'), \n",
    "                                    ('Qs','Qh'), ('Qs','Qd'), ('Qs','Qc'), ('Qh','Qd'), ('Qh','Qc'), ('Qd','Qc'), \n",
    "                                    ('As','Ks'), ('Ah','Kh'), ('Ad','Kd'), ('Ac','Kc'), ('As','Kh'), ('As','Kd'), \n",
    "                                    ('As','Kc'), ('Ah','Ks'), ('Ah','Kd'), ('Ah','Kc'), ('Ad','Ks'), ('Ad','Kh'), \n",
    "                                    ('Ad','Kc'), ('Ac','Ks'), ('Ac','Kh'), ('Ac','Kd')})\n",
    "rangeTwo = EquitySolver.generateRange({'AA', 'KK', 'QQ', 'AKs', 'AKo'})\n",
    "toStringListOne = [Card.sequenceToString(hand) for hand in rangeOne]\n",
    "toStringListTwo = [Card.sequenceToString(hand) for hand in rangeTwo]\n",
    "print(set(toStringListOne) == set(toStringListTwo))"
   ]
  },
  {
   "cell_type": "code",
   "execution_count": 12,
   "id": "0e96736d-1f51-4bec-92c0-0eb966eb34be",
   "metadata": {},
   "outputs": [
    {
     "name": "stdout",
     "output_type": "stream",
     "text": [
      "____________________\n",
      "Board Cards: \n",
      "\n",
      "____________________\n",
      "Player 1 |  ♣A ♥A | 81.79999999999262%\n",
      "Player 2 |  ♠K ♣K | 17.64999999999969%\n",
      "Chop | 0.5500000000000002%\n",
      "____________________\n",
      "\n"
     ]
    }
   ],
   "source": [
    "# Testing hand equity (1)\n",
    "solver = EquitySolver()\n",
    "solver.addPlayers(2)\n",
    "solver.defineHole(1, Card.generateSet({'Ah','Ac'}))\n",
    "solver.defineHole(2, Card.generateSet({'Kc','Ks'}))\n",
    "solver.calculateHandEquity(trials=10000)\n",
    "print(solver.toString())"
   ]
  },
  {
   "cell_type": "markdown",
   "id": "7bc84acf-7a43-49bf-910b-cbcf9775568d",
   "metadata": {},
   "source": [
    "**Solver.** _Source: PokerAI (iPhone)_"
   ]
  },
  {
   "attachments": {},
   "cell_type": "markdown",
   "id": "fe023342-9f3e-49b7-ba5d-00fb811aff31",
   "metadata": {},
   "source": [
    "<img src=\"images/solver_image_1.png\" style=\"width:33%;\"/>"
   ]
  },
  {
   "cell_type": "code",
   "execution_count": 31,
   "id": "c6bd35ef-dde9-4ba0-820f-dc23bb022ef9",
   "metadata": {},
   "outputs": [
    {
     "name": "stdout",
     "output_type": "stream",
     "text": [
      "____________________\n",
      "Board Cards: \n",
      " ♥6 ♥7 ♠9\n",
      "____________________\n",
      "Player 1 |  ♥5 ♥A | 45.60999999999661%\n",
      "Player 2 |  ♠T ♣T | 41.10999999999711%\n",
      "Player 3 |  | 14.620000000000022%\n",
      "Chop | 0.22%\n",
      "____________________\n",
      "\n"
     ]
    }
   ],
   "source": [
    "# Testing hand equity (2)\n",
    "solver = EquitySolver()\n",
    "solver.addPlayers(3)\n",
    "solver.defineHole(1, Card.generateSet({'Ah','5h'}))\n",
    "solver.defineHole(2, Card.generateSet({'Tc','Ts'}))\n",
    "solver.defineBoard(Card.generateSet(['6h','7h','9s']))\n",
    "solver.calculateHandEquity(trials=10000)\n",
    "print(solver.toString())"
   ]
  },
  {
   "cell_type": "markdown",
   "id": "15040f8a-1368-4c09-85ee-1ba03392c3dc",
   "metadata": {},
   "source": [
    "**Solver.** _Source: PokerAI (iPhone)_"
   ]
  },
  {
   "attachments": {},
   "cell_type": "markdown",
   "id": "659e48aa-59ef-4c60-b571-83515bb43eb0",
   "metadata": {},
   "source": [
    "<img src=\"images/solver_image_2.jpg\" style=\"width:33%;\"/>"
   ]
  },
  {
   "cell_type": "code",
   "execution_count": 17,
   "id": "9da84b36-46d8-471a-8d79-c0374e55e1fd",
   "metadata": {},
   "outputs": [
    {
     "name": "stdout",
     "output_type": "stream",
     "text": [
      "____________________\n",
      "Board Cards: \n",
      " ♥2 ♥7 ♠9 ♠6\n",
      "____________________\n",
      "Player 1 |  ♠7 ♣7 | 24.379999999998947%\n",
      "Player 2 |  ♠T ♠8 | 75.6199999999933%\n",
      "Player 3 |  ♣8 ♣T | 58.95999999999514%\n",
      "Chop | 0%\n",
      "____________________\n",
      "\n"
     ]
    }
   ],
   "source": [
    "# Testing hand equity (3)\n",
    "solver = EquitySolver()\n",
    "solver.addPlayers(3)\n",
    "solver.defineHole(1, Card.generateSet({'7c','7s'}))\n",
    "solver.defineHole(2, Card.generateSet({'Ts','8s'}))\n",
    "solver.defineHole(3, Card.generateSet({'Tc','8c'}))\n",
    "solver.defineBoard(Card.generateSet(['2h','7h','9s','6s']))\n",
    "solver.calculateHandEquity(trials=10000)\n",
    "print(solver.toString())"
   ]
  },
  {
   "cell_type": "markdown",
   "id": "b6c5b2f9-7568-4c2f-b3fd-f85248875ddb",
   "metadata": {},
   "source": [
    "**Solver.** _Source: PokerAI (iPhone)_"
   ]
  },
  {
   "attachments": {},
   "cell_type": "markdown",
   "id": "d67637fb-01d9-4ed7-9a4c-8b4e807ce6e0",
   "metadata": {},
   "source": [
    "<img src=\"images/solver_image_3.jpg\" style=\"width:33%;\"/>"
   ]
  },
  {
   "cell_type": "code",
   "execution_count": 56,
   "id": "c360fadc-6836-42dd-ad1e-def4467d7417",
   "metadata": {},
   "outputs": [
    {
     "name": "stdout",
     "output_type": "stream",
     "text": [
      "____________________\n",
      "BoardCards: \n",
      "\n",
      "____________________\n",
      "Range 1 | 48.338235294117695%\n",
      "Range 2 | 33.37941176470591%\n",
      "CHOP | 18.282352941176487%\n",
      "____________________\n",
      "\n"
     ]
    }
   ],
   "source": [
    "# Testing range equity (results difficult to verify beyond sanity checking)\n",
    "myHand = [Card.generateSet(('Ks','Kc'))]\n",
    "fiveBetRange = EquitySolver.generateRange({'AA', 'KK', 'QQ', 'AKs', 'AKo'})\n",
    "equities, message = EquitySolver.calculateRangeEquity(myHand, fiveBetRange)\n",
    "print(message)"
   ]
  },
  {
   "cell_type": "markdown",
   "id": "4919b8f5-3b7f-4f90-8fdc-50b12dd28e6a",
   "metadata": {},
   "source": [
    "Approximate math:\\\n",
    "KK vs AA ~ 18% equity | 6 combos\\\n",
    "KK vs KK ~ 2% equity, 98% chop | 6 combos (blockers not considered)\\\n",
    "KK vs QQ ~ 82% equity | 6 combos\\\n",
    "KK vs AK ~ 68% equity | 16 combos (blockers not considered)\\\n",
    "\n",
    "Wins: 0.8(6) + 0.7(16) + 0.2(6) ~ 17/34 ~ 50%\\\n",
    "Loses: 0.8(6) + 0.3(16) + 0.2(6) ~ 11/34 ~ 32%\\\n",
    "Chops: 1(6) ~ 6/34 ~ 18%\\\n",
    "\n",
    "Seems approximately correct for this basic range comparison!"
   ]
  }
 ],
 "metadata": {
  "kernelspec": {
   "display_name": "Python 3 (ipykernel)",
   "language": "python",
   "name": "python3"
  },
  "language_info": {
   "codemirror_mode": {
    "name": "ipython",
    "version": 3
   },
   "file_extension": ".py",
   "mimetype": "text/x-python",
   "name": "python",
   "nbconvert_exporter": "python",
   "pygments_lexer": "ipython3",
   "version": "3.12.4"
  }
 },
 "nbformat": 4,
 "nbformat_minor": 5
}
